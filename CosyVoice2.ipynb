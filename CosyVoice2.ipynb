{
  "cells": [
    {
      "cell_type": "markdown",
      "metadata": {
        "colab_type": "text",
        "id": "view-in-github"
      },
      "source": [
        "<a href=\"https://colab.research.google.com/github/it00021hot/CosyVoice/blob/api/CosyVoice2.ipynb\" target=\"_parent\"><img src=\"https://colab.research.google.com/assets/colab-badge.svg\" alt=\"Open In Colab\"/></a>"
      ]
    },
    {
      "cell_type": "code",
      "execution_count": null,
      "metadata": {
        "id": "tZE5XrtwJiSD"
      },
      "outputs": [],
      "source": [
        "# @title 一键运行 CosyVoice2 —— 最强情感真实复刻\n",
        "# Install condacolab and setup Conda environment\n",
        "%pip install -q condacolab\n",
        "import condacolab\n",
        "condacolab.install_from_url(\"https://repo.anaconda.com/miniconda/Miniconda3-py39_23.11.0-2-Linux-x86_64.sh\")\n",
        "\n",
        "# Clone the CosyVoice repository\n",
        "!git clone -b api --recursive https://github.com/it00021hot/CosyVoice.git\n",
        "%cd CosyVoice\n",
        "!git submodule update --init --recursive\n",
        "\n",
        "# Create a Conda environment with Python 3.10\n",
        "!conda create -n cosyvoice python=3.10 -y\n",
        "\n",
        "# Activate the Conda environment and install dependencies\n",
        "!source activate cosyvoice && conda install -y -q -c conda-forge pynini=2.1.5\n",
        "!source activate cosyvoice && pip install -r requirements.txt\n",
        "\n",
        "# Setup pretrained models\n",
        "!mkdir -p pretrained_models\n",
        "!git clone https://www.modelscope.cn/iic/CosyVoice2-0.5B.git pretrained_models/CosyVoice2-0.5B\n",
        "!git clone https://www.modelscope.cn/iic/CosyVoice-ttsfrd.git pretrained_models/CosyVoice-ttsfrd\n",
        "\n",
        "# Extract resources\n",
        "%cd pretrained_models/CosyVoice-ttsfrd/\n",
        "!sudo apt install unzip -y\n",
        "!unzip resource.zip -d .\n",
        "\n",
        "# Install the required wheels in Conda environment\n",
        "!source activate cosyvoice && pip install ttsfrd_dependency-0.1-py3-none-any.whl\n",
        "!source activate cosyvoice && pip install ttsfrd-0.4.2-cp310-cp310-linux_x86_64.whl\n",
        "\n",
        "# Navigate back and run the application\n",
        "%cd ..\n",
        "%cd ..\n",
        "!source activate cosyvoice && python api.py --mode api"
      ]
    }
  ],
  "metadata": {
    "accelerator": "GPU",
    "colab": {
      "authorship_tag": "ABX9TyOIl+2q5kgHGZzuJiZOIFu3",
      "gpuType": "T4",
      "include_colab_link": true,
      "provenance": []
    },
    "kernelspec": {
      "display_name": "Python 3",
      "name": "python3"
    },
    "language_info": {
      "name": "python"
    }
  },
  "nbformat": 4,
  "nbformat_minor": 0
}
